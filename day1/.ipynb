{
 "cells": [
  {
   "metadata": {},
   "cell_type": "code",
   "source": [
    "import numpy as np\n",
    "import matplotlib.pyplot as plt\n",
    "\n",
    "# 生成 0-10 间 100 个点\n",
    "x = np.linspace(0, 10, 100)\n",
    "y = np.sin(x) + 0.2 * np.random.randn(100)  # 加一点随机噪声\n",
    "\n",
    "plt.plot(x, y, label='Noisy Sine')\n",
    "plt.title(\"Day 1: Random Sine Plot\")\n",
    "plt.xlabel(\"X\")\n",
    "plt.ylabel(\"Y\")\n",
    "plt.legend()\n",
    "plt.show()"
   ],
   "id": "a1ed072d873b5f52",
   "outputs": [],
   "execution_count": null
  },
  {
   "metadata": {
    "ExecuteTime": {
     "end_time": "2025-08-25T13:14:49.617542Z",
     "start_time": "2025-08-25T13:14:48.536099Z"
    }
   },
   "cell_type": "code",
   "source": [
    "import torch\n",
    "\n",
    "device = \"mps\" if torch.backends.mps.is_available() else \"cpu\"\n",
    "print(\"Using device:\", device)\n",
    "\n",
    "# 创建随机矩阵\n",
    "a = torch.rand(1000, 1000, device=device)\n",
    "b = torch.rand(1000, 1000, device=device)\n",
    "\n",
    "# 矩阵乘法\n",
    "c = torch.matmul(a, b)\n",
    "print(\"Matrix multiplication done. Shape:\", c.shape)"
   ],
   "id": "f4a2084c75af728e",
   "outputs": [
    {
     "name": "stdout",
     "output_type": "stream",
     "text": [
      "Using device: mps\n",
      "Matrix multiplication done. Shape: torch.Size([1000, 1000])\n"
     ]
    }
   ],
   "execution_count": 2
  }
 ],
 "metadata": {
  "kernelspec": {
   "display_name": "Python 3",
   "language": "python",
   "name": "python3"
  },
  "language_info": {
   "codemirror_mode": {
    "name": "ipython",
    "version": 2
   },
   "file_extension": ".py",
   "mimetype": "text/x-python",
   "name": "python",
   "nbconvert_exporter": "python",
   "pygments_lexer": "ipython2",
   "version": "2.7.6"
  }
 },
 "nbformat": 4,
 "nbformat_minor": 5
}
